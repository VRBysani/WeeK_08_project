{
 "cells": [
  {
   "cell_type": "code",
   "execution_count": 1,
   "id": "00f91f3b",
   "metadata": {},
   "outputs": [],
   "source": [
    "import pandas as pd"
   ]
  },
  {
   "cell_type": "code",
   "execution_count": 2,
   "id": "07e8083a",
   "metadata": {},
   "outputs": [],
   "source": [
    "friday= pd.read_csv('friday.csv', sep= ';')"
   ]
  },
  {
   "cell_type": "code",
   "execution_count": 3,
   "id": "03114fbd",
   "metadata": {},
   "outputs": [
    {
     "data": {
      "text/html": [
       "<div>\n",
       "<style scoped>\n",
       "    .dataframe tbody tr th:only-of-type {\n",
       "        vertical-align: middle;\n",
       "    }\n",
       "\n",
       "    .dataframe tbody tr th {\n",
       "        vertical-align: top;\n",
       "    }\n",
       "\n",
       "    .dataframe thead th {\n",
       "        text-align: right;\n",
       "    }\n",
       "</style>\n",
       "<table border=\"1\" class=\"dataframe\">\n",
       "  <thead>\n",
       "    <tr style=\"text-align: right;\">\n",
       "      <th></th>\n",
       "      <th>timestamp</th>\n",
       "      <th>customer_no</th>\n",
       "      <th>location</th>\n",
       "    </tr>\n",
       "  </thead>\n",
       "  <tbody>\n",
       "    <tr>\n",
       "      <th>0</th>\n",
       "      <td>2019-09-06 07:00:00</td>\n",
       "      <td>1</td>\n",
       "      <td>dairy</td>\n",
       "    </tr>\n",
       "    <tr>\n",
       "      <th>1</th>\n",
       "      <td>2019-09-06 07:00:00</td>\n",
       "      <td>2</td>\n",
       "      <td>drinks</td>\n",
       "    </tr>\n",
       "    <tr>\n",
       "      <th>2</th>\n",
       "      <td>2019-09-06 07:00:00</td>\n",
       "      <td>3</td>\n",
       "      <td>fruit</td>\n",
       "    </tr>\n",
       "    <tr>\n",
       "      <th>3</th>\n",
       "      <td>2019-09-06 07:01:00</td>\n",
       "      <td>2</td>\n",
       "      <td>checkout</td>\n",
       "    </tr>\n",
       "    <tr>\n",
       "      <th>4</th>\n",
       "      <td>2019-09-06 07:01:00</td>\n",
       "      <td>4</td>\n",
       "      <td>drinks</td>\n",
       "    </tr>\n",
       "  </tbody>\n",
       "</table>\n",
       "</div>"
      ],
      "text/plain": [
       "             timestamp  customer_no  location\n",
       "0  2019-09-06 07:00:00            1     dairy\n",
       "1  2019-09-06 07:00:00            2    drinks\n",
       "2  2019-09-06 07:00:00            3     fruit\n",
       "3  2019-09-06 07:01:00            2  checkout\n",
       "4  2019-09-06 07:01:00            4    drinks"
      ]
     },
     "execution_count": 3,
     "metadata": {},
     "output_type": "execute_result"
    }
   ],
   "source": [
    "friday.head()"
   ]
  },
  {
   "cell_type": "code",
   "execution_count": 4,
   "id": "d1452bd1",
   "metadata": {},
   "outputs": [],
   "source": [
    "thursday= pd.read_csv('thursday.csv', sep= ';')"
   ]
  },
  {
   "cell_type": "code",
   "execution_count": 5,
   "id": "4dcec92f",
   "metadata": {},
   "outputs": [],
   "source": [
    "monday= pd.read_csv('monday.csv', sep= ';')"
   ]
  },
  {
   "cell_type": "code",
   "execution_count": 6,
   "id": "819f8d80",
   "metadata": {},
   "outputs": [],
   "source": [
    "tuesday= pd.read_csv('tuesday.csv', sep= ';')"
   ]
  },
  {
   "cell_type": "code",
   "execution_count": 7,
   "id": "ae571a20",
   "metadata": {},
   "outputs": [],
   "source": [
    "wednsday= pd.read_csv('wednesday.csv', sep= ';')"
   ]
  },
  {
   "cell_type": "code",
   "execution_count": 8,
   "id": "b75b4db7",
   "metadata": {},
   "outputs": [],
   "source": [
    "monday['customer_number']= monday['customer_no'].apply(lambda x: '{}{}'.format('mon_', x))"
   ]
  },
  {
   "cell_type": "code",
   "execution_count": 9,
   "id": "71867343",
   "metadata": {},
   "outputs": [
    {
     "data": {
      "text/html": [
       "<div>\n",
       "<style scoped>\n",
       "    .dataframe tbody tr th:only-of-type {\n",
       "        vertical-align: middle;\n",
       "    }\n",
       "\n",
       "    .dataframe tbody tr th {\n",
       "        vertical-align: top;\n",
       "    }\n",
       "\n",
       "    .dataframe thead th {\n",
       "        text-align: right;\n",
       "    }\n",
       "</style>\n",
       "<table border=\"1\" class=\"dataframe\">\n",
       "  <thead>\n",
       "    <tr style=\"text-align: right;\">\n",
       "      <th></th>\n",
       "      <th>timestamp</th>\n",
       "      <th>customer_no</th>\n",
       "      <th>location</th>\n",
       "      <th>customer_number</th>\n",
       "    </tr>\n",
       "  </thead>\n",
       "  <tbody>\n",
       "    <tr>\n",
       "      <th>0</th>\n",
       "      <td>2019-09-02 07:03:00</td>\n",
       "      <td>1</td>\n",
       "      <td>dairy</td>\n",
       "      <td>mon_1</td>\n",
       "    </tr>\n",
       "    <tr>\n",
       "      <th>1</th>\n",
       "      <td>2019-09-02 07:03:00</td>\n",
       "      <td>2</td>\n",
       "      <td>dairy</td>\n",
       "      <td>mon_2</td>\n",
       "    </tr>\n",
       "    <tr>\n",
       "      <th>2</th>\n",
       "      <td>2019-09-02 07:04:00</td>\n",
       "      <td>3</td>\n",
       "      <td>dairy</td>\n",
       "      <td>mon_3</td>\n",
       "    </tr>\n",
       "    <tr>\n",
       "      <th>3</th>\n",
       "      <td>2019-09-02 07:04:00</td>\n",
       "      <td>4</td>\n",
       "      <td>dairy</td>\n",
       "      <td>mon_4</td>\n",
       "    </tr>\n",
       "    <tr>\n",
       "      <th>4</th>\n",
       "      <td>2019-09-02 07:04:00</td>\n",
       "      <td>5</td>\n",
       "      <td>spices</td>\n",
       "      <td>mon_5</td>\n",
       "    </tr>\n",
       "  </tbody>\n",
       "</table>\n",
       "</div>"
      ],
      "text/plain": [
       "             timestamp  customer_no location customer_number\n",
       "0  2019-09-02 07:03:00            1    dairy           mon_1\n",
       "1  2019-09-02 07:03:00            2    dairy           mon_2\n",
       "2  2019-09-02 07:04:00            3    dairy           mon_3\n",
       "3  2019-09-02 07:04:00            4    dairy           mon_4\n",
       "4  2019-09-02 07:04:00            5   spices           mon_5"
      ]
     },
     "execution_count": 9,
     "metadata": {},
     "output_type": "execute_result"
    }
   ],
   "source": [
    "monday.head()"
   ]
  },
  {
   "cell_type": "code",
   "execution_count": 10,
   "id": "8d7c3df8",
   "metadata": {},
   "outputs": [],
   "source": [
    "tuesday['customer_number']= tuesday['customer_no'].apply(lambda x: '{}{}'.format('tue_', x))"
   ]
  },
  {
   "cell_type": "code",
   "execution_count": 11,
   "id": "346a796c",
   "metadata": {},
   "outputs": [
    {
     "data": {
      "text/html": [
       "<div>\n",
       "<style scoped>\n",
       "    .dataframe tbody tr th:only-of-type {\n",
       "        vertical-align: middle;\n",
       "    }\n",
       "\n",
       "    .dataframe tbody tr th {\n",
       "        vertical-align: top;\n",
       "    }\n",
       "\n",
       "    .dataframe thead th {\n",
       "        text-align: right;\n",
       "    }\n",
       "</style>\n",
       "<table border=\"1\" class=\"dataframe\">\n",
       "  <thead>\n",
       "    <tr style=\"text-align: right;\">\n",
       "      <th></th>\n",
       "      <th>timestamp</th>\n",
       "      <th>customer_no</th>\n",
       "      <th>location</th>\n",
       "      <th>customer_number</th>\n",
       "    </tr>\n",
       "  </thead>\n",
       "  <tbody>\n",
       "    <tr>\n",
       "      <th>0</th>\n",
       "      <td>2019-09-03 07:02:00</td>\n",
       "      <td>1</td>\n",
       "      <td>fruit</td>\n",
       "      <td>tue_1</td>\n",
       "    </tr>\n",
       "    <tr>\n",
       "      <th>1</th>\n",
       "      <td>2019-09-03 07:02:00</td>\n",
       "      <td>2</td>\n",
       "      <td>drinks</td>\n",
       "      <td>tue_2</td>\n",
       "    </tr>\n",
       "    <tr>\n",
       "      <th>2</th>\n",
       "      <td>2019-09-03 07:03:00</td>\n",
       "      <td>3</td>\n",
       "      <td>dairy</td>\n",
       "      <td>tue_3</td>\n",
       "    </tr>\n",
       "    <tr>\n",
       "      <th>3</th>\n",
       "      <td>2019-09-03 07:05:00</td>\n",
       "      <td>1</td>\n",
       "      <td>drinks</td>\n",
       "      <td>tue_1</td>\n",
       "    </tr>\n",
       "    <tr>\n",
       "      <th>4</th>\n",
       "      <td>2019-09-03 07:06:00</td>\n",
       "      <td>4</td>\n",
       "      <td>dairy</td>\n",
       "      <td>tue_4</td>\n",
       "    </tr>\n",
       "  </tbody>\n",
       "</table>\n",
       "</div>"
      ],
      "text/plain": [
       "             timestamp  customer_no location customer_number\n",
       "0  2019-09-03 07:02:00            1    fruit           tue_1\n",
       "1  2019-09-03 07:02:00            2   drinks           tue_2\n",
       "2  2019-09-03 07:03:00            3    dairy           tue_3\n",
       "3  2019-09-03 07:05:00            1   drinks           tue_1\n",
       "4  2019-09-03 07:06:00            4    dairy           tue_4"
      ]
     },
     "execution_count": 11,
     "metadata": {},
     "output_type": "execute_result"
    }
   ],
   "source": [
    "tuesday.head()"
   ]
  },
  {
   "cell_type": "code",
   "execution_count": 12,
   "id": "e07afeee",
   "metadata": {},
   "outputs": [],
   "source": [
    "friday.index=pd.to_datetime(friday.index)"
   ]
  },
  {
   "cell_type": "code",
   "execution_count": 13,
   "id": "1f127b6c",
   "metadata": {},
   "outputs": [
    {
     "data": {
      "text/html": [
       "<div>\n",
       "<style scoped>\n",
       "    .dataframe tbody tr th:only-of-type {\n",
       "        vertical-align: middle;\n",
       "    }\n",
       "\n",
       "    .dataframe tbody tr th {\n",
       "        vertical-align: top;\n",
       "    }\n",
       "\n",
       "    .dataframe thead th {\n",
       "        text-align: right;\n",
       "    }\n",
       "</style>\n",
       "<table border=\"1\" class=\"dataframe\">\n",
       "  <thead>\n",
       "    <tr style=\"text-align: right;\">\n",
       "      <th></th>\n",
       "      <th>timestamp</th>\n",
       "      <th>customer_no</th>\n",
       "      <th>location</th>\n",
       "    </tr>\n",
       "  </thead>\n",
       "  <tbody>\n",
       "    <tr>\n",
       "      <th>5045</th>\n",
       "      <td>2019-09-04 21:48:00</td>\n",
       "      <td>1528</td>\n",
       "      <td>spices</td>\n",
       "    </tr>\n",
       "    <tr>\n",
       "      <th>5046</th>\n",
       "      <td>2019-09-04 21:49:00</td>\n",
       "      <td>1520</td>\n",
       "      <td>dairy</td>\n",
       "    </tr>\n",
       "    <tr>\n",
       "      <th>5047</th>\n",
       "      <td>2019-09-04 21:49:00</td>\n",
       "      <td>1529</td>\n",
       "      <td>dairy</td>\n",
       "    </tr>\n",
       "    <tr>\n",
       "      <th>5048</th>\n",
       "      <td>2019-09-04 21:49:00</td>\n",
       "      <td>1530</td>\n",
       "      <td>fruit</td>\n",
       "    </tr>\n",
       "    <tr>\n",
       "      <th>5049</th>\n",
       "      <td>2019-09-04 21:49:00</td>\n",
       "      <td>1531</td>\n",
       "      <td>checkout</td>\n",
       "    </tr>\n",
       "  </tbody>\n",
       "</table>\n",
       "</div>"
      ],
      "text/plain": [
       "                timestamp  customer_no  location\n",
       "5045  2019-09-04 21:48:00         1528    spices\n",
       "5046  2019-09-04 21:49:00         1520     dairy\n",
       "5047  2019-09-04 21:49:00         1529     dairy\n",
       "5048  2019-09-04 21:49:00         1530     fruit\n",
       "5049  2019-09-04 21:49:00         1531  checkout"
      ]
     },
     "execution_count": 13,
     "metadata": {},
     "output_type": "execute_result"
    }
   ],
   "source": [
    "wednsday.tail()"
   ]
  },
  {
   "cell_type": "code",
   "execution_count": 14,
   "id": "15241f32",
   "metadata": {},
   "outputs": [],
   "source": [
    "thursday['customer_number']= thursday['customer_no'].apply(lambda x: '{}{}'.format('thur_', x))"
   ]
  },
  {
   "cell_type": "code",
   "execution_count": 15,
   "id": "b66dd596",
   "metadata": {},
   "outputs": [],
   "source": [
    "friday['customer_number']= friday['customer_no'].apply(lambda x: '{}{}'.format('fri_', x))"
   ]
  },
  {
   "cell_type": "code",
   "execution_count": 16,
   "id": "44434e4d",
   "metadata": {},
   "outputs": [
    {
     "data": {
      "text/html": [
       "<div>\n",
       "<style scoped>\n",
       "    .dataframe tbody tr th:only-of-type {\n",
       "        vertical-align: middle;\n",
       "    }\n",
       "\n",
       "    .dataframe tbody tr th {\n",
       "        vertical-align: top;\n",
       "    }\n",
       "\n",
       "    .dataframe thead th {\n",
       "        text-align: right;\n",
       "    }\n",
       "</style>\n",
       "<table border=\"1\" class=\"dataframe\">\n",
       "  <thead>\n",
       "    <tr style=\"text-align: right;\">\n",
       "      <th></th>\n",
       "      <th>timestamp</th>\n",
       "      <th>customer_no</th>\n",
       "      <th>location</th>\n",
       "      <th>customer_number</th>\n",
       "    </tr>\n",
       "  </thead>\n",
       "  <tbody>\n",
       "    <tr>\n",
       "      <th>1970-01-01 00:00:00.000000000</th>\n",
       "      <td>2019-09-06 07:00:00</td>\n",
       "      <td>1</td>\n",
       "      <td>dairy</td>\n",
       "      <td>fri_1</td>\n",
       "    </tr>\n",
       "    <tr>\n",
       "      <th>1970-01-01 00:00:00.000000001</th>\n",
       "      <td>2019-09-06 07:00:00</td>\n",
       "      <td>2</td>\n",
       "      <td>drinks</td>\n",
       "      <td>fri_2</td>\n",
       "    </tr>\n",
       "    <tr>\n",
       "      <th>1970-01-01 00:00:00.000000002</th>\n",
       "      <td>2019-09-06 07:00:00</td>\n",
       "      <td>3</td>\n",
       "      <td>fruit</td>\n",
       "      <td>fri_3</td>\n",
       "    </tr>\n",
       "    <tr>\n",
       "      <th>1970-01-01 00:00:00.000000003</th>\n",
       "      <td>2019-09-06 07:01:00</td>\n",
       "      <td>2</td>\n",
       "      <td>checkout</td>\n",
       "      <td>fri_2</td>\n",
       "    </tr>\n",
       "    <tr>\n",
       "      <th>1970-01-01 00:00:00.000000004</th>\n",
       "      <td>2019-09-06 07:01:00</td>\n",
       "      <td>4</td>\n",
       "      <td>drinks</td>\n",
       "      <td>fri_4</td>\n",
       "    </tr>\n",
       "  </tbody>\n",
       "</table>\n",
       "</div>"
      ],
      "text/plain": [
       "                                         timestamp  customer_no  location  \\\n",
       "1970-01-01 00:00:00.000000000  2019-09-06 07:00:00            1     dairy   \n",
       "1970-01-01 00:00:00.000000001  2019-09-06 07:00:00            2    drinks   \n",
       "1970-01-01 00:00:00.000000002  2019-09-06 07:00:00            3     fruit   \n",
       "1970-01-01 00:00:00.000000003  2019-09-06 07:01:00            2  checkout   \n",
       "1970-01-01 00:00:00.000000004  2019-09-06 07:01:00            4    drinks   \n",
       "\n",
       "                              customer_number  \n",
       "1970-01-01 00:00:00.000000000           fri_1  \n",
       "1970-01-01 00:00:00.000000001           fri_2  \n",
       "1970-01-01 00:00:00.000000002           fri_3  \n",
       "1970-01-01 00:00:00.000000003           fri_2  \n",
       "1970-01-01 00:00:00.000000004           fri_4  "
      ]
     },
     "execution_count": 16,
     "metadata": {},
     "output_type": "execute_result"
    }
   ],
   "source": [
    "friday.head()"
   ]
  },
  {
   "cell_type": "code",
   "execution_count": 17,
   "id": "bb8ffde4",
   "metadata": {},
   "outputs": [],
   "source": [
    "#Calculate the total number of customers in each section"
   ]
  },
  {
   "cell_type": "code",
   "execution_count": 18,
   "id": "13fba229",
   "metadata": {},
   "outputs": [],
   "source": [
    "fri_location=friday.groupby(['location']).count()"
   ]
  },
  {
   "cell_type": "code",
   "execution_count": 19,
   "id": "69b1747e",
   "metadata": {},
   "outputs": [
    {
     "data": {
      "text/html": [
       "<div>\n",
       "<style scoped>\n",
       "    .dataframe tbody tr th:only-of-type {\n",
       "        vertical-align: middle;\n",
       "    }\n",
       "\n",
       "    .dataframe tbody tr th {\n",
       "        vertical-align: top;\n",
       "    }\n",
       "\n",
       "    .dataframe thead th {\n",
       "        text-align: right;\n",
       "    }\n",
       "</style>\n",
       "<table border=\"1\" class=\"dataframe\">\n",
       "  <thead>\n",
       "    <tr style=\"text-align: right;\">\n",
       "      <th></th>\n",
       "      <th>timestamp</th>\n",
       "      <th>customer_no</th>\n",
       "      <th>customer_number</th>\n",
       "    </tr>\n",
       "    <tr>\n",
       "      <th>location</th>\n",
       "      <th></th>\n",
       "      <th></th>\n",
       "      <th></th>\n",
       "    </tr>\n",
       "  </thead>\n",
       "  <tbody>\n",
       "    <tr>\n",
       "      <th>checkout</th>\n",
       "      <td>1502</td>\n",
       "      <td>1502</td>\n",
       "      <td>1502</td>\n",
       "    </tr>\n",
       "    <tr>\n",
       "      <th>dairy</th>\n",
       "      <td>932</td>\n",
       "      <td>932</td>\n",
       "      <td>932</td>\n",
       "    </tr>\n",
       "    <tr>\n",
       "      <th>drinks</th>\n",
       "      <td>844</td>\n",
       "      <td>844</td>\n",
       "      <td>844</td>\n",
       "    </tr>\n",
       "    <tr>\n",
       "      <th>fruit</th>\n",
       "      <td>1057</td>\n",
       "      <td>1057</td>\n",
       "      <td>1057</td>\n",
       "    </tr>\n",
       "    <tr>\n",
       "      <th>spices</th>\n",
       "      <td>790</td>\n",
       "      <td>790</td>\n",
       "      <td>790</td>\n",
       "    </tr>\n",
       "  </tbody>\n",
       "</table>\n",
       "</div>"
      ],
      "text/plain": [
       "          timestamp  customer_no  customer_number\n",
       "location                                         \n",
       "checkout       1502         1502             1502\n",
       "dairy           932          932              932\n",
       "drinks          844          844              844\n",
       "fruit          1057         1057             1057\n",
       "spices          790          790              790"
      ]
     },
     "execution_count": 19,
     "metadata": {},
     "output_type": "execute_result"
    }
   ],
   "source": [
    "fri_location"
   ]
  },
  {
   "cell_type": "code",
   "execution_count": 20,
   "id": "edef8843",
   "metadata": {},
   "outputs": [
    {
     "data": {
      "text/html": [
       "<div>\n",
       "<style scoped>\n",
       "    .dataframe tbody tr th:only-of-type {\n",
       "        vertical-align: middle;\n",
       "    }\n",
       "\n",
       "    .dataframe tbody tr th {\n",
       "        vertical-align: top;\n",
       "    }\n",
       "\n",
       "    .dataframe thead th {\n",
       "        text-align: right;\n",
       "    }\n",
       "</style>\n",
       "<table border=\"1\" class=\"dataframe\">\n",
       "  <thead>\n",
       "    <tr style=\"text-align: right;\">\n",
       "      <th></th>\n",
       "      <th>timestamp</th>\n",
       "      <th>customer_no</th>\n",
       "      <th>location</th>\n",
       "      <th>customer_number</th>\n",
       "    </tr>\n",
       "  </thead>\n",
       "  <tbody>\n",
       "    <tr>\n",
       "      <th>1970-01-01 00:00:00.000000000</th>\n",
       "      <td>2019-09-06 07:00:00</td>\n",
       "      <td>1</td>\n",
       "      <td>dairy</td>\n",
       "      <td>fri_1</td>\n",
       "    </tr>\n",
       "    <tr>\n",
       "      <th>1970-01-01 00:00:00.000000001</th>\n",
       "      <td>2019-09-06 07:00:00</td>\n",
       "      <td>2</td>\n",
       "      <td>drinks</td>\n",
       "      <td>fri_2</td>\n",
       "    </tr>\n",
       "    <tr>\n",
       "      <th>1970-01-01 00:00:00.000000002</th>\n",
       "      <td>2019-09-06 07:00:00</td>\n",
       "      <td>3</td>\n",
       "      <td>fruit</td>\n",
       "      <td>fri_3</td>\n",
       "    </tr>\n",
       "    <tr>\n",
       "      <th>1970-01-01 00:00:00.000000003</th>\n",
       "      <td>2019-09-06 07:01:00</td>\n",
       "      <td>2</td>\n",
       "      <td>checkout</td>\n",
       "      <td>fri_2</td>\n",
       "    </tr>\n",
       "    <tr>\n",
       "      <th>1970-01-01 00:00:00.000000004</th>\n",
       "      <td>2019-09-06 07:01:00</td>\n",
       "      <td>4</td>\n",
       "      <td>drinks</td>\n",
       "      <td>fri_4</td>\n",
       "    </tr>\n",
       "  </tbody>\n",
       "</table>\n",
       "</div>"
      ],
      "text/plain": [
       "                                         timestamp  customer_no  location  \\\n",
       "1970-01-01 00:00:00.000000000  2019-09-06 07:00:00            1     dairy   \n",
       "1970-01-01 00:00:00.000000001  2019-09-06 07:00:00            2    drinks   \n",
       "1970-01-01 00:00:00.000000002  2019-09-06 07:00:00            3     fruit   \n",
       "1970-01-01 00:00:00.000000003  2019-09-06 07:01:00            2  checkout   \n",
       "1970-01-01 00:00:00.000000004  2019-09-06 07:01:00            4    drinks   \n",
       "\n",
       "                              customer_number  \n",
       "1970-01-01 00:00:00.000000000           fri_1  \n",
       "1970-01-01 00:00:00.000000001           fri_2  \n",
       "1970-01-01 00:00:00.000000002           fri_3  \n",
       "1970-01-01 00:00:00.000000003           fri_2  \n",
       "1970-01-01 00:00:00.000000004           fri_4  "
      ]
     },
     "execution_count": 20,
     "metadata": {},
     "output_type": "execute_result"
    }
   ],
   "source": [
    "#Calculate the total number of customers in each section over time\n",
    "\n",
    "friday.head()"
   ]
  },
  {
   "cell_type": "code",
   "execution_count": 21,
   "id": "7d42c186",
   "metadata": {},
   "outputs": [],
   "source": [
    "friday=friday.set_index('timestamp')\n"
   ]
  },
  {
   "cell_type": "code",
   "execution_count": 22,
   "id": "023e6050",
   "metadata": {},
   "outputs": [],
   "source": [
    "friday.index=pd.to_datetime(friday.index)"
   ]
  },
  {
   "cell_type": "code",
   "execution_count": 23,
   "id": "a92a4d93",
   "metadata": {},
   "outputs": [],
   "source": [
    "fri_loc_num=friday.groupby(['location']).resample('1H').count()"
   ]
  },
  {
   "cell_type": "code",
   "execution_count": 24,
   "id": "31720101",
   "metadata": {},
   "outputs": [
    {
     "name": "stdout",
     "output_type": "stream",
     "text": [
      "<class 'pandas.core.frame.DataFrame'>\n",
      "MultiIndex: 75 entries, ('checkout', Timestamp('2019-09-06 07:00:00', freq='H')) to ('spices', Timestamp('2019-09-06 21:00:00', freq='H'))\n",
      "Data columns (total 3 columns):\n",
      " #   Column           Non-Null Count  Dtype\n",
      "---  ------           --------------  -----\n",
      " 0   customer_no      75 non-null     int64\n",
      " 1   location         75 non-null     int64\n",
      " 2   customer_number  75 non-null     int64\n",
      "dtypes: int64(3)\n",
      "memory usage: 2.9+ KB\n"
     ]
    }
   ],
   "source": [
    "fri_loc_num.info()"
   ]
  },
  {
   "cell_type": "code",
   "execution_count": null,
   "id": "582bf057",
   "metadata": {},
   "outputs": [],
   "source": [
    "#viswa_question nr. "
   ]
  },
  {
   "cell_type": "code",
   "execution_count": null,
   "id": "faf18cd9",
   "metadata": {},
   "outputs": [],
   "source": [
    "#viswa_solution"
   ]
  }
 ],
 "metadata": {
  "kernelspec": {
   "display_name": "Python 3 (ipykernel)",
   "language": "python",
   "name": "python3"
  },
  "language_info": {
   "codemirror_mode": {
    "name": "ipython",
    "version": 3
   },
   "file_extension": ".py",
   "mimetype": "text/x-python",
   "name": "python",
   "nbconvert_exporter": "python",
   "pygments_lexer": "ipython3",
   "version": "3.9.12"
  }
 },
 "nbformat": 4,
 "nbformat_minor": 5
}
