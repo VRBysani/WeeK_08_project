{
 "cells": [
  {
   "cell_type": "code",
   "execution_count": null,
   "id": "00f91f3b",
   "metadata": {},
   "outputs": [],
   "source": [
    "import pandas as pd"
   ]
  },
  {
   "cell_type": "code",
   "execution_count": null,
   "id": "07e8083a",
   "metadata": {},
   "outputs": [],
   "source": [
    "friday= pd.read_csv('friday.csv', sep= ';')"
   ]
  },
  {
   "cell_type": "code",
   "execution_count": null,
   "id": "03114fbd",
   "metadata": {},
   "outputs": [],
   "source": [
    "friday.head()"
   ]
  },
  {
   "cell_type": "code",
   "execution_count": null,
   "id": "d1452bd1",
   "metadata": {},
   "outputs": [],
   "source": [
    "thursday= pd.read_csv('thursday.csv', sep= ';')"
   ]
  },
  {
   "cell_type": "code",
   "execution_count": null,
   "id": "4dcec92f",
   "metadata": {},
   "outputs": [],
   "source": [
    "monday= pd.read_csv('monday.csv', sep= ';')"
   ]
  },
  {
   "cell_type": "code",
   "execution_count": null,
   "id": "819f8d80",
   "metadata": {},
   "outputs": [],
   "source": [
    "tuesday= pd.read_csv('tuesday.csv', sep= ';')"
   ]
  },
  {
   "cell_type": "code",
   "execution_count": null,
   "id": "ae571a20",
   "metadata": {},
   "outputs": [],
   "source": [
    "wednsday= pd.read_csv('wednesday.csv', sep= ';')"
   ]
  },
  {
   "cell_type": "code",
   "execution_count": null,
   "id": "b75b4db7",
   "metadata": {},
   "outputs": [],
   "source": [
    "monday['customer_id']= monday['customer_no'].apply(lambda x: '{}{}'.format('mon_', x))"
   ]
  },
  {
   "cell_type": "code",
   "execution_count": null,
   "id": "71867343",
   "metadata": {},
   "outputs": [],
   "source": [
    "#monday.loc[monday['customer_no']==666]"
   ]
  },
  {
   "cell_type": "code",
   "execution_count": null,
   "id": "8d7c3df8",
   "metadata": {},
   "outputs": [],
   "source": [
    "tuesday['customer_id']= tuesday['customer_no'].apply(lambda x: '{}{}'.format('tue_', x))"
   ]
  },
  {
   "cell_type": "code",
   "execution_count": null,
   "id": "1f127b6c",
   "metadata": {},
   "outputs": [],
   "source": [
    "wednsday['customer_id']=wednsday['customer_no'].apply(lambda x: '{}{}'.format('wed_', x))"
   ]
  },
  {
   "cell_type": "code",
   "execution_count": null,
   "id": "15241f32",
   "metadata": {},
   "outputs": [],
   "source": [
    "thursday['customer_id']= thursday['customer_no'].apply(lambda x: '{}{}'.format('thur_', x))"
   ]
  },
  {
   "cell_type": "code",
   "execution_count": null,
   "id": "b66dd596",
   "metadata": {},
   "outputs": [],
   "source": [
    "friday['customer_id']= friday['customer_no'].apply(lambda x: '{}{}'.format('fri_', x))"
   ]
  },
  {
   "cell_type": "code",
   "execution_count": null,
   "id": "44434e4d",
   "metadata": {},
   "outputs": [],
   "source": [
    "friday.head()"
   ]
  },
  {
   "cell_type": "code",
   "execution_count": null,
   "id": "ef743220",
   "metadata": {},
   "outputs": [],
   "source": [
    "monday.drop(\"customer_no\", axis=1, inplace=True)"
   ]
  },
  {
   "cell_type": "code",
   "execution_count": null,
   "id": "451d616b",
   "metadata": {},
   "outputs": [],
   "source": [
    "tuesday.drop(\"customer_no\", axis=1, inplace=True)"
   ]
  },
  {
   "cell_type": "code",
   "execution_count": null,
   "id": "0e0890b6",
   "metadata": {},
   "outputs": [],
   "source": [
    "wednsday.drop(\"customer_no\", axis=1, inplace=True)"
   ]
  },
  {
   "cell_type": "code",
   "execution_count": null,
   "id": "695eadcd",
   "metadata": {},
   "outputs": [],
   "source": [
    "thursday.drop(\"customer_no\", axis=1, inplace=True)"
   ]
  },
  {
   "cell_type": "code",
   "execution_count": null,
   "id": "459ea4ad",
   "metadata": {},
   "outputs": [],
   "source": [
    "friday.drop(\"customer_no\", axis=1, inplace=True)"
   ]
  },
  {
   "cell_type": "code",
   "execution_count": null,
   "id": "a942e602",
   "metadata": {},
   "outputs": [],
   "source": [
    "friday.head()"
   ]
  },
  {
   "cell_type": "code",
   "execution_count": null,
   "id": "b45f9904",
   "metadata": {},
   "outputs": [],
   "source": [
    "#monday.index=pd.to_datetime(friday.index)\n",
    "monday.set_index(\"timestamp\", inplace=True)\n",
    "#monday.index=pd.to_datetime(monday.index)"
   ]
  },
  {
   "cell_type": "code",
   "execution_count": null,
   "id": "9555dd65",
   "metadata": {},
   "outputs": [],
   "source": [
    "type(monday.index)"
   ]
  },
  {
   "cell_type": "code",
   "execution_count": null,
   "id": "b5389a6f",
   "metadata": {},
   "outputs": [],
   "source": [
    "monday.index=pd.to_datetime(monday.index)"
   ]
  },
  {
   "cell_type": "code",
   "execution_count": null,
   "id": "c0a2f70e",
   "metadata": {},
   "outputs": [],
   "source": [
    "type(monday.index)"
   ]
  },
  {
   "cell_type": "code",
   "execution_count": null,
   "id": "6f29050c",
   "metadata": {},
   "outputs": [],
   "source": [
    "monday.head()"
   ]
  },
  {
   "cell_type": "code",
   "execution_count": null,
   "id": "f5b449a5",
   "metadata": {},
   "outputs": [],
   "source": [
    "tuesday.set_index(\"timestamp\", inplace=True)"
   ]
  },
  {
   "cell_type": "code",
   "execution_count": null,
   "id": "5b323096",
   "metadata": {},
   "outputs": [],
   "source": [
    "tuesday.index=pd.to_datetime(tuesday.index)"
   ]
  },
  {
   "cell_type": "code",
   "execution_count": null,
   "id": "3708b481",
   "metadata": {},
   "outputs": [],
   "source": [
    "wednsday.set_index(\"timestamp\", inplace=True)"
   ]
  },
  {
   "cell_type": "code",
   "execution_count": null,
   "id": "33ff191b",
   "metadata": {},
   "outputs": [],
   "source": [
    "wednsday.index=pd.to_datetime(wednsday.index)"
   ]
  },
  {
   "cell_type": "code",
   "execution_count": null,
   "id": "47a16ca4",
   "metadata": {},
   "outputs": [],
   "source": [
    "thursday.set_index(\"timestamp\", inplace=True)"
   ]
  },
  {
   "cell_type": "code",
   "execution_count": null,
   "id": "61f1692c",
   "metadata": {},
   "outputs": [],
   "source": [
    "thursday.index=pd.to_datetime(thursday.index)"
   ]
  },
  {
   "cell_type": "code",
   "execution_count": null,
   "id": "4856ed02",
   "metadata": {},
   "outputs": [],
   "source": [
    "friday.set_index(\"timestamp\", inplace=True)"
   ]
  },
  {
   "cell_type": "code",
   "execution_count": null,
   "id": "a192b0f2",
   "metadata": {},
   "outputs": [],
   "source": [
    "friday.index= pd.to_datetime(friday.index)"
   ]
  },
  {
   "cell_type": "code",
   "execution_count": null,
   "id": "d60a7809",
   "metadata": {},
   "outputs": [],
   "source": [
    "friday.head()"
   ]
  },
  {
   "cell_type": "code",
   "execution_count": null,
   "id": "d317170f",
   "metadata": {},
   "outputs": [],
   "source": [
    "all_days=pd.concat([monday,tuesday,wednsday,thursday,friday])"
   ]
  },
  {
   "cell_type": "code",
   "execution_count": null,
   "id": "d6c405c9",
   "metadata": {},
   "outputs": [],
   "source": [
    "all_days.info()"
   ]
  },
  {
   "cell_type": "code",
   "execution_count": null,
   "id": "bb8ffde4",
   "metadata": {},
   "outputs": [],
   "source": [
    "#Calculate the total number of customers in each section"
   ]
  },
  {
   "cell_type": "code",
   "execution_count": null,
   "id": "13fba229",
   "metadata": {},
   "outputs": [],
   "source": [
    "cus_at_each_loction=all_days.groupby(['location']).count()"
   ]
  },
  {
   "cell_type": "code",
   "execution_count": null,
   "id": "69b1747e",
   "metadata": {},
   "outputs": [],
   "source": [
    "cus_at_each_loction"
   ]
  },
  {
   "cell_type": "code",
   "execution_count": null,
   "id": "edef8843",
   "metadata": {},
   "outputs": [],
   "source": [
    "#Calculate the total number of customers in each section over time\n",
    "\n"
   ]
  },
  {
   "cell_type": "code",
   "execution_count": null,
   "id": "7d42c186",
   "metadata": {},
   "outputs": [],
   "source": [
    "all_days[\"location\"].unique()\n"
   ]
  },
  {
   "cell_type": "code",
   "execution_count": null,
   "id": "a92a4d93",
   "metadata": {},
   "outputs": [],
   "source": [
    "customer_per_loc_over_time=all_days.groupby(['location']).resample('1H').count()"
   ]
  },
  {
   "cell_type": "code",
   "execution_count": null,
   "id": "31720101",
   "metadata": {},
   "outputs": [],
   "source": [
    "customer_per_loc_over_time.head()"
   ]
  },
  {
   "cell_type": "code",
   "execution_count": null,
   "id": "582bf057",
   "metadata": {},
   "outputs": [],
   "source": [
    "#import seaborn as sns\n",
    "#import matplotlib as plt"
   ]
  },
  {
   "cell_type": "code",
   "execution_count": null,
   "id": "53294809",
   "metadata": {},
   "outputs": [],
   "source": [
    "df_plot=customer_per_loc_over_time.drop(\"location\", axis= 1)"
   ]
  },
  {
   "cell_type": "code",
   "execution_count": null,
   "id": "7c88074b",
   "metadata": {},
   "outputs": [],
   "source": [
    "df_plot.head()"
   ]
  },
  {
   "cell_type": "raw",
   "id": "e6c04205",
   "metadata": {},
   "source": [
    "import pylab as plt\n",
    "\n",
    "import matplotlib.dates as mdates\n",
    "\n",
    "fig=plt.figure(figsize=(10,15))\n",
    "axes=[]\n",
    "axes.append(fig.add_subplot(511))\n",
    "axes.append(fig.add_subplot(512))\n",
    "axes.append(fig.add_subplot(513))\n",
    "axes.append(fig.add_subplot(514))\n",
    "axes.append(fig.add_subplot(515))\n",
    "\n",
    "df_plot.unstack(level= 0).plot(kind= \"bar\", subplots= True, rot=0, \n",
    "                              figsize=(6,20), ax=axes);\n",
    "\n",
    "\n",
    "import numpy as np\n",
    "for ax in axes:\n",
    "    ax.set_xticklabels(np.arange(7,22,1))\n",
    "    #ax.xaxis.set_major_formatter(mdates.DateFormatter(\"%H\"))\n",
    "    #ax.xaxis.set_minor_formatter(mdates.DateFormatter(\"%H\"))\n",
    "plt.tight_layout()"
   ]
  },
  {
   "cell_type": "code",
   "execution_count": null,
   "id": "a56ce3bb",
   "metadata": {},
   "outputs": [],
   "source": [
    "import matplotlib as mdates\n",
    "import pylab as plt\n",
    "fig= plt.figure(figsize=(10,15))\n",
    "axes=[]\n",
    "axes.append(fig.add_subplot(511))\n",
    "axes.append(fig.add_subplot(512))\n",
    "axes.append(fig.add_subplot(513))\n",
    "axes.append(fig.add_subplot(514))\n",
    "axes.append(fig.add_subplot(515))\n",
    "df_plot.unstack(level= 0).plot(kind=\"bar\", subplots= True, rot=0, figsize=(6, 20), ax=axes)\n",
    "\n",
    "import numpy as np\n",
    "for ax in axes:\n",
    "    ax.set_xticklabels([])\n",
    "    #ax.set_xticklabels(np.arange(7, 22, 1))\n",
    "plt.tight_layout()"
   ]
  },
  {
   "cell_type": "code",
   "execution_count": null,
   "id": "1bb2f91a",
   "metadata": {},
   "outputs": [],
   "source": [
    "df_sum=df_plot.unstack(level= 0)\n",
    "df_sum"
   ]
  },
  {
   "cell_type": "code",
   "execution_count": null,
   "id": "5eaa8939",
   "metadata": {},
   "outputs": [],
   "source": [
    "#df_sum.info()\n",
    "\n",
    "#Total = df['MyColumn'].sum()\n",
    "df_sum[\"customer_id\", \"checkout\"].sum()"
   ]
  },
  {
   "cell_type": "code",
   "execution_count": null,
   "id": "52a61893",
   "metadata": {},
   "outputs": [],
   "source": [
    "df_sum[\"customer_id\", \"dairy\"].sum()\n"
   ]
  },
  {
   "cell_type": "code",
   "execution_count": null,
   "id": "21f3e97a",
   "metadata": {},
   "outputs": [],
   "source": [
    "df_sum[\"customer_id\", \"drinks\"].sum()"
   ]
  },
  {
   "cell_type": "code",
   "execution_count": null,
   "id": "d9ad0f9f",
   "metadata": {},
   "outputs": [],
   "source": [
    "df_sum[\"customer_id\", \"fruit\"].sum()"
   ]
  },
  {
   "cell_type": "code",
   "execution_count": null,
   "id": "be0b8575",
   "metadata": {},
   "outputs": [],
   "source": [
    "df_sum[\"customer_id\", \"spices\"].sum()"
   ]
  },
  {
   "cell_type": "code",
   "execution_count": null,
   "id": "b85b383c",
   "metadata": {},
   "outputs": [],
   "source": []
  }
 ],
 "metadata": {
  "kernelspec": {
   "display_name": "Python 3 (ipykernel)",
   "language": "python",
   "name": "python3"
  },
  "language_info": {
   "codemirror_mode": {
    "name": "ipython",
    "version": 3
   },
   "file_extension": ".py",
   "mimetype": "text/x-python",
   "name": "python",
   "nbconvert_exporter": "python",
   "pygments_lexer": "ipython3",
   "version": "3.9.12"
  }
 },
 "nbformat": 4,
 "nbformat_minor": 5
}
