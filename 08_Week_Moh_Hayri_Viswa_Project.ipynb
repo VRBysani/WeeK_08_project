{
 "cells": [
  {
   "cell_type": "code",
   "execution_count": 3,
   "id": "00f91f3b",
   "metadata": {},
   "outputs": [],
   "source": [
    "import pandas as pd"
   ]
  },
  {
   "cell_type": "code",
   "execution_count": 4,
   "id": "07e8083a",
   "metadata": {},
   "outputs": [],
   "source": [
    "friday= pd.read_csv('friday.csv', sep= ';')"
   ]
  },
  {
   "cell_type": "code",
   "execution_count": 5,
   "id": "03114fbd",
   "metadata": {},
   "outputs": [
    {
     "data": {
      "text/html": [
       "<div>\n",
       "<style scoped>\n",
       "    .dataframe tbody tr th:only-of-type {\n",
       "        vertical-align: middle;\n",
       "    }\n",
       "\n",
       "    .dataframe tbody tr th {\n",
       "        vertical-align: top;\n",
       "    }\n",
       "\n",
       "    .dataframe thead th {\n",
       "        text-align: right;\n",
       "    }\n",
       "</style>\n",
       "<table border=\"1\" class=\"dataframe\">\n",
       "  <thead>\n",
       "    <tr style=\"text-align: right;\">\n",
       "      <th></th>\n",
       "      <th>timestamp</th>\n",
       "      <th>customer_no</th>\n",
       "      <th>location</th>\n",
       "    </tr>\n",
       "  </thead>\n",
       "  <tbody>\n",
       "    <tr>\n",
       "      <th>0</th>\n",
       "      <td>2019-09-06 07:00:00</td>\n",
       "      <td>1</td>\n",
       "      <td>dairy</td>\n",
       "    </tr>\n",
       "    <tr>\n",
       "      <th>1</th>\n",
       "      <td>2019-09-06 07:00:00</td>\n",
       "      <td>2</td>\n",
       "      <td>drinks</td>\n",
       "    </tr>\n",
       "    <tr>\n",
       "      <th>2</th>\n",
       "      <td>2019-09-06 07:00:00</td>\n",
       "      <td>3</td>\n",
       "      <td>fruit</td>\n",
       "    </tr>\n",
       "    <tr>\n",
       "      <th>3</th>\n",
       "      <td>2019-09-06 07:01:00</td>\n",
       "      <td>2</td>\n",
       "      <td>checkout</td>\n",
       "    </tr>\n",
       "    <tr>\n",
       "      <th>4</th>\n",
       "      <td>2019-09-06 07:01:00</td>\n",
       "      <td>4</td>\n",
       "      <td>drinks</td>\n",
       "    </tr>\n",
       "  </tbody>\n",
       "</table>\n",
       "</div>"
      ],
      "text/plain": [
       "             timestamp  customer_no  location\n",
       "0  2019-09-06 07:00:00            1     dairy\n",
       "1  2019-09-06 07:00:00            2    drinks\n",
       "2  2019-09-06 07:00:00            3     fruit\n",
       "3  2019-09-06 07:01:00            2  checkout\n",
       "4  2019-09-06 07:01:00            4    drinks"
      ]
     },
     "execution_count": 5,
     "metadata": {},
     "output_type": "execute_result"
    }
   ],
   "source": [
    "friday.head()"
   ]
  },
  {
   "cell_type": "code",
   "execution_count": 6,
   "id": "d1452bd1",
   "metadata": {},
   "outputs": [],
   "source": [
    "thursday= pd.read_csv('thursday.csv', sep= ';')"
   ]
  },
  {
   "cell_type": "code",
   "execution_count": 7,
   "id": "4dcec92f",
   "metadata": {},
   "outputs": [],
   "source": [
    "monday= pd.read_csv('monday.csv', sep= ';')"
   ]
  },
  {
   "cell_type": "code",
   "execution_count": 8,
   "id": "819f8d80",
   "metadata": {},
   "outputs": [],
   "source": [
    "tuesday= pd.read_csv('tuesday.csv', sep= ';')"
   ]
  },
  {
   "cell_type": "code",
   "execution_count": 9,
   "id": "ae571a20",
   "metadata": {},
   "outputs": [],
   "source": [
    "wednsday= pd.read_csv('wednesday.csv', sep= ';')"
   ]
  },
  {
   "cell_type": "code",
   "execution_count": 10,
   "id": "b75b4db7",
   "metadata": {},
   "outputs": [],
   "source": [
    "monday['customer_id']= monday['customer_no'].apply(lambda x: '{}{}'.format('mon_', x))"
   ]
  },
  {
   "cell_type": "code",
   "execution_count": 11,
   "id": "71867343",
   "metadata": {},
   "outputs": [],
   "source": [
    "#monday.loc[monday['customer_no']==666]"
   ]
  },
  {
   "cell_type": "code",
   "execution_count": 12,
   "id": "8d7c3df8",
   "metadata": {},
   "outputs": [],
   "source": [
    "tuesday['customer_id']= tuesday['customer_no'].apply(lambda x: '{}{}'.format('tue_', x))"
   ]
  },
  {
   "cell_type": "code",
   "execution_count": 13,
   "id": "1f127b6c",
   "metadata": {},
   "outputs": [],
   "source": [
    "wednsday['customer_id']=wednsday['customer_no'].apply(lambda x: '{}{}'.format('wed_', x))"
   ]
  },
  {
   "cell_type": "code",
   "execution_count": 14,
   "id": "15241f32",
   "metadata": {},
   "outputs": [],
   "source": [
    "thursday['customer_id']= thursday['customer_no'].apply(lambda x: '{}{}'.format('thur_', x))"
   ]
  },
  {
   "cell_type": "code",
   "execution_count": 15,
   "id": "b66dd596",
   "metadata": {},
   "outputs": [],
   "source": [
    "friday['customer_id']= friday['customer_no'].apply(lambda x: '{}{}'.format('fri_', x))"
   ]
  },
  {
   "cell_type": "code",
   "execution_count": 16,
   "id": "44434e4d",
   "metadata": {},
   "outputs": [
    {
     "data": {
      "text/html": [
       "<div>\n",
       "<style scoped>\n",
       "    .dataframe tbody tr th:only-of-type {\n",
       "        vertical-align: middle;\n",
       "    }\n",
       "\n",
       "    .dataframe tbody tr th {\n",
       "        vertical-align: top;\n",
       "    }\n",
       "\n",
       "    .dataframe thead th {\n",
       "        text-align: right;\n",
       "    }\n",
       "</style>\n",
       "<table border=\"1\" class=\"dataframe\">\n",
       "  <thead>\n",
       "    <tr style=\"text-align: right;\">\n",
       "      <th></th>\n",
       "      <th>timestamp</th>\n",
       "      <th>customer_no</th>\n",
       "      <th>location</th>\n",
       "      <th>customer_id</th>\n",
       "    </tr>\n",
       "  </thead>\n",
       "  <tbody>\n",
       "    <tr>\n",
       "      <th>0</th>\n",
       "      <td>2019-09-06 07:00:00</td>\n",
       "      <td>1</td>\n",
       "      <td>dairy</td>\n",
       "      <td>fri_1</td>\n",
       "    </tr>\n",
       "    <tr>\n",
       "      <th>1</th>\n",
       "      <td>2019-09-06 07:00:00</td>\n",
       "      <td>2</td>\n",
       "      <td>drinks</td>\n",
       "      <td>fri_2</td>\n",
       "    </tr>\n",
       "    <tr>\n",
       "      <th>2</th>\n",
       "      <td>2019-09-06 07:00:00</td>\n",
       "      <td>3</td>\n",
       "      <td>fruit</td>\n",
       "      <td>fri_3</td>\n",
       "    </tr>\n",
       "    <tr>\n",
       "      <th>3</th>\n",
       "      <td>2019-09-06 07:01:00</td>\n",
       "      <td>2</td>\n",
       "      <td>checkout</td>\n",
       "      <td>fri_2</td>\n",
       "    </tr>\n",
       "    <tr>\n",
       "      <th>4</th>\n",
       "      <td>2019-09-06 07:01:00</td>\n",
       "      <td>4</td>\n",
       "      <td>drinks</td>\n",
       "      <td>fri_4</td>\n",
       "    </tr>\n",
       "  </tbody>\n",
       "</table>\n",
       "</div>"
      ],
      "text/plain": [
       "             timestamp  customer_no  location customer_id\n",
       "0  2019-09-06 07:00:00            1     dairy       fri_1\n",
       "1  2019-09-06 07:00:00            2    drinks       fri_2\n",
       "2  2019-09-06 07:00:00            3     fruit       fri_3\n",
       "3  2019-09-06 07:01:00            2  checkout       fri_2\n",
       "4  2019-09-06 07:01:00            4    drinks       fri_4"
      ]
     },
     "execution_count": 16,
     "metadata": {},
     "output_type": "execute_result"
    }
   ],
   "source": [
    "friday.head()"
   ]
  },
  {
   "cell_type": "code",
   "execution_count": 17,
   "id": "ef743220",
   "metadata": {},
   "outputs": [],
   "source": [
    "monday.drop(\"customer_no\", axis=1, inplace=True)"
   ]
  },
  {
   "cell_type": "code",
   "execution_count": 18,
   "id": "451d616b",
   "metadata": {},
   "outputs": [],
   "source": [
    "tuesday.drop(\"customer_no\", axis=1, inplace=True)"
   ]
  },
  {
   "cell_type": "code",
   "execution_count": 19,
   "id": "0e0890b6",
   "metadata": {},
   "outputs": [],
   "source": [
    "wednsday.drop(\"customer_no\", axis=1, inplace=True)"
   ]
  },
  {
   "cell_type": "code",
   "execution_count": 20,
   "id": "695eadcd",
   "metadata": {},
   "outputs": [],
   "source": [
    "thursday.drop(\"customer_no\", axis=1, inplace=True)"
   ]
  },
  {
   "cell_type": "code",
   "execution_count": 21,
   "id": "459ea4ad",
   "metadata": {},
   "outputs": [],
   "source": [
    "friday.drop(\"customer_no\", axis=1, inplace=True)"
   ]
  },
  {
   "cell_type": "code",
   "execution_count": 22,
   "id": "a942e602",
   "metadata": {},
   "outputs": [
    {
     "data": {
      "text/html": [
       "<div>\n",
       "<style scoped>\n",
       "    .dataframe tbody tr th:only-of-type {\n",
       "        vertical-align: middle;\n",
       "    }\n",
       "\n",
       "    .dataframe tbody tr th {\n",
       "        vertical-align: top;\n",
       "    }\n",
       "\n",
       "    .dataframe thead th {\n",
       "        text-align: right;\n",
       "    }\n",
       "</style>\n",
       "<table border=\"1\" class=\"dataframe\">\n",
       "  <thead>\n",
       "    <tr style=\"text-align: right;\">\n",
       "      <th></th>\n",
       "      <th>timestamp</th>\n",
       "      <th>location</th>\n",
       "      <th>customer_id</th>\n",
       "    </tr>\n",
       "  </thead>\n",
       "  <tbody>\n",
       "    <tr>\n",
       "      <th>0</th>\n",
       "      <td>2019-09-06 07:00:00</td>\n",
       "      <td>dairy</td>\n",
       "      <td>fri_1</td>\n",
       "    </tr>\n",
       "    <tr>\n",
       "      <th>1</th>\n",
       "      <td>2019-09-06 07:00:00</td>\n",
       "      <td>drinks</td>\n",
       "      <td>fri_2</td>\n",
       "    </tr>\n",
       "    <tr>\n",
       "      <th>2</th>\n",
       "      <td>2019-09-06 07:00:00</td>\n",
       "      <td>fruit</td>\n",
       "      <td>fri_3</td>\n",
       "    </tr>\n",
       "    <tr>\n",
       "      <th>3</th>\n",
       "      <td>2019-09-06 07:01:00</td>\n",
       "      <td>checkout</td>\n",
       "      <td>fri_2</td>\n",
       "    </tr>\n",
       "    <tr>\n",
       "      <th>4</th>\n",
       "      <td>2019-09-06 07:01:00</td>\n",
       "      <td>drinks</td>\n",
       "      <td>fri_4</td>\n",
       "    </tr>\n",
       "  </tbody>\n",
       "</table>\n",
       "</div>"
      ],
      "text/plain": [
       "             timestamp  location customer_id\n",
       "0  2019-09-06 07:00:00     dairy       fri_1\n",
       "1  2019-09-06 07:00:00    drinks       fri_2\n",
       "2  2019-09-06 07:00:00     fruit       fri_3\n",
       "3  2019-09-06 07:01:00  checkout       fri_2\n",
       "4  2019-09-06 07:01:00    drinks       fri_4"
      ]
     },
     "execution_count": 22,
     "metadata": {},
     "output_type": "execute_result"
    }
   ],
   "source": [
    "friday.head()"
   ]
  },
  {
   "cell_type": "code",
   "execution_count": 23,
   "id": "b45f9904",
   "metadata": {},
   "outputs": [],
   "source": [
    "#monday.index=pd.to_datetime(friday.index)\n",
    "monday.set_index(\"timestamp\", inplace=True)\n",
    "#monday.index=pd.to_datetime(monday.index)"
   ]
  },
  {
   "cell_type": "code",
   "execution_count": 24,
   "id": "9555dd65",
   "metadata": {},
   "outputs": [
    {
     "data": {
      "text/plain": [
       "pandas.core.indexes.base.Index"
      ]
     },
     "execution_count": 24,
     "metadata": {},
     "output_type": "execute_result"
    }
   ],
   "source": [
    "type(monday.index)"
   ]
  },
  {
   "cell_type": "code",
   "execution_count": 25,
   "id": "b5389a6f",
   "metadata": {},
   "outputs": [],
   "source": [
    "monday.index=pd.to_datetime(monday.index)"
   ]
  },
  {
   "cell_type": "code",
   "execution_count": 26,
   "id": "c0a2f70e",
   "metadata": {},
   "outputs": [
    {
     "data": {
      "text/plain": [
       "pandas.core.indexes.datetimes.DatetimeIndex"
      ]
     },
     "execution_count": 26,
     "metadata": {},
     "output_type": "execute_result"
    }
   ],
   "source": [
    "type(monday.index)"
   ]
  },
  {
   "cell_type": "code",
   "execution_count": 27,
   "id": "6f29050c",
   "metadata": {},
   "outputs": [
    {
     "data": {
      "text/html": [
       "<div>\n",
       "<style scoped>\n",
       "    .dataframe tbody tr th:only-of-type {\n",
       "        vertical-align: middle;\n",
       "    }\n",
       "\n",
       "    .dataframe tbody tr th {\n",
       "        vertical-align: top;\n",
       "    }\n",
       "\n",
       "    .dataframe thead th {\n",
       "        text-align: right;\n",
       "    }\n",
       "</style>\n",
       "<table border=\"1\" class=\"dataframe\">\n",
       "  <thead>\n",
       "    <tr style=\"text-align: right;\">\n",
       "      <th></th>\n",
       "      <th>location</th>\n",
       "      <th>customer_id</th>\n",
       "    </tr>\n",
       "    <tr>\n",
       "      <th>timestamp</th>\n",
       "      <th></th>\n",
       "      <th></th>\n",
       "    </tr>\n",
       "  </thead>\n",
       "  <tbody>\n",
       "    <tr>\n",
       "      <th>2019-09-02 07:03:00</th>\n",
       "      <td>dairy</td>\n",
       "      <td>mon_1</td>\n",
       "    </tr>\n",
       "    <tr>\n",
       "      <th>2019-09-02 07:03:00</th>\n",
       "      <td>dairy</td>\n",
       "      <td>mon_2</td>\n",
       "    </tr>\n",
       "    <tr>\n",
       "      <th>2019-09-02 07:04:00</th>\n",
       "      <td>dairy</td>\n",
       "      <td>mon_3</td>\n",
       "    </tr>\n",
       "    <tr>\n",
       "      <th>2019-09-02 07:04:00</th>\n",
       "      <td>dairy</td>\n",
       "      <td>mon_4</td>\n",
       "    </tr>\n",
       "    <tr>\n",
       "      <th>2019-09-02 07:04:00</th>\n",
       "      <td>spices</td>\n",
       "      <td>mon_5</td>\n",
       "    </tr>\n",
       "  </tbody>\n",
       "</table>\n",
       "</div>"
      ],
      "text/plain": [
       "                    location customer_id\n",
       "timestamp                               \n",
       "2019-09-02 07:03:00    dairy       mon_1\n",
       "2019-09-02 07:03:00    dairy       mon_2\n",
       "2019-09-02 07:04:00    dairy       mon_3\n",
       "2019-09-02 07:04:00    dairy       mon_4\n",
       "2019-09-02 07:04:00   spices       mon_5"
      ]
     },
     "execution_count": 27,
     "metadata": {},
     "output_type": "execute_result"
    }
   ],
   "source": [
    "monday.head()"
   ]
  },
  {
   "cell_type": "code",
   "execution_count": 28,
   "id": "f5b449a5",
   "metadata": {},
   "outputs": [],
   "source": [
    "tuesday.set_index(\"timestamp\", inplace=True)"
   ]
  },
  {
   "cell_type": "code",
   "execution_count": 29,
   "id": "5b323096",
   "metadata": {},
   "outputs": [],
   "source": [
    "tuesday.index=pd.to_datetime(tuesday.index)"
   ]
  },
  {
   "cell_type": "code",
   "execution_count": 30,
   "id": "3708b481",
   "metadata": {},
   "outputs": [],
   "source": [
    "wednsday.set_index(\"timestamp\", inplace=True)"
   ]
  },
  {
   "cell_type": "code",
   "execution_count": 31,
   "id": "33ff191b",
   "metadata": {},
   "outputs": [],
   "source": [
    "wednsday.index=pd.to_datetime(wednsday.index)"
   ]
  },
  {
   "cell_type": "code",
   "execution_count": 32,
   "id": "47a16ca4",
   "metadata": {},
   "outputs": [],
   "source": [
    "thursday.set_index(\"timestamp\", inplace=True)"
   ]
  },
  {
   "cell_type": "code",
   "execution_count": 33,
   "id": "61f1692c",
   "metadata": {},
   "outputs": [],
   "source": [
    "thursday.index=pd.to_datetime(thursday.index)"
   ]
  },
  {
   "cell_type": "code",
   "execution_count": 34,
   "id": "4856ed02",
   "metadata": {},
   "outputs": [],
   "source": [
    "friday.set_index(\"timestamp\", inplace=True)"
   ]
  },
  {
   "cell_type": "code",
   "execution_count": 35,
   "id": "a192b0f2",
   "metadata": {},
   "outputs": [],
   "source": [
    "friday.index= pd.to_datetime(friday.index)"
   ]
  },
  {
   "cell_type": "code",
   "execution_count": 36,
   "id": "d60a7809",
   "metadata": {},
   "outputs": [
    {
     "data": {
      "text/html": [
       "<div>\n",
       "<style scoped>\n",
       "    .dataframe tbody tr th:only-of-type {\n",
       "        vertical-align: middle;\n",
       "    }\n",
       "\n",
       "    .dataframe tbody tr th {\n",
       "        vertical-align: top;\n",
       "    }\n",
       "\n",
       "    .dataframe thead th {\n",
       "        text-align: right;\n",
       "    }\n",
       "</style>\n",
       "<table border=\"1\" class=\"dataframe\">\n",
       "  <thead>\n",
       "    <tr style=\"text-align: right;\">\n",
       "      <th></th>\n",
       "      <th>location</th>\n",
       "      <th>customer_id</th>\n",
       "    </tr>\n",
       "    <tr>\n",
       "      <th>timestamp</th>\n",
       "      <th></th>\n",
       "      <th></th>\n",
       "    </tr>\n",
       "  </thead>\n",
       "  <tbody>\n",
       "    <tr>\n",
       "      <th>2019-09-06 07:00:00</th>\n",
       "      <td>dairy</td>\n",
       "      <td>fri_1</td>\n",
       "    </tr>\n",
       "    <tr>\n",
       "      <th>2019-09-06 07:00:00</th>\n",
       "      <td>drinks</td>\n",
       "      <td>fri_2</td>\n",
       "    </tr>\n",
       "    <tr>\n",
       "      <th>2019-09-06 07:00:00</th>\n",
       "      <td>fruit</td>\n",
       "      <td>fri_3</td>\n",
       "    </tr>\n",
       "    <tr>\n",
       "      <th>2019-09-06 07:01:00</th>\n",
       "      <td>checkout</td>\n",
       "      <td>fri_2</td>\n",
       "    </tr>\n",
       "    <tr>\n",
       "      <th>2019-09-06 07:01:00</th>\n",
       "      <td>drinks</td>\n",
       "      <td>fri_4</td>\n",
       "    </tr>\n",
       "  </tbody>\n",
       "</table>\n",
       "</div>"
      ],
      "text/plain": [
       "                     location customer_id\n",
       "timestamp                                \n",
       "2019-09-06 07:00:00     dairy       fri_1\n",
       "2019-09-06 07:00:00    drinks       fri_2\n",
       "2019-09-06 07:00:00     fruit       fri_3\n",
       "2019-09-06 07:01:00  checkout       fri_2\n",
       "2019-09-06 07:01:00    drinks       fri_4"
      ]
     },
     "execution_count": 36,
     "metadata": {},
     "output_type": "execute_result"
    }
   ],
   "source": [
    "friday.head()"
   ]
  },
  {
   "cell_type": "code",
   "execution_count": 37,
   "id": "d317170f",
   "metadata": {},
   "outputs": [],
   "source": [
    "all_days=pd.concat([monday,tuesday,wednsday,thursday,friday])"
   ]
  },
  {
   "cell_type": "code",
   "execution_count": 38,
   "id": "d6c405c9",
   "metadata": {},
   "outputs": [
    {
     "name": "stdout",
     "output_type": "stream",
     "text": [
      "<class 'pandas.core.frame.DataFrame'>\n",
      "DatetimeIndex: 24877 entries, 2019-09-02 07:03:00 to 2019-09-06 21:50:00\n",
      "Data columns (total 2 columns):\n",
      " #   Column       Non-Null Count  Dtype \n",
      "---  ------       --------------  ----- \n",
      " 0   location     24877 non-null  object\n",
      " 1   customer_id  24877 non-null  object\n",
      "dtypes: object(2)\n",
      "memory usage: 583.1+ KB\n"
     ]
    }
   ],
   "source": [
    "all_days.info()"
   ]
  },
  {
   "cell_type": "code",
   "execution_count": 39,
   "id": "bb8ffde4",
   "metadata": {},
   "outputs": [],
   "source": [
    "#Calculate the total number of customers in each section"
   ]
  },
  {
   "cell_type": "code",
   "execution_count": 40,
   "id": "13fba229",
   "metadata": {},
   "outputs": [],
   "source": [
    "cus_at_each_loction=all_days.groupby(['location']).count()"
   ]
  },
  {
   "cell_type": "code",
   "execution_count": 41,
   "id": "69b1747e",
   "metadata": {},
   "outputs": [
    {
     "data": {
      "text/html": [
       "<div>\n",
       "<style scoped>\n",
       "    .dataframe tbody tr th:only-of-type {\n",
       "        vertical-align: middle;\n",
       "    }\n",
       "\n",
       "    .dataframe tbody tr th {\n",
       "        vertical-align: top;\n",
       "    }\n",
       "\n",
       "    .dataframe thead th {\n",
       "        text-align: right;\n",
       "    }\n",
       "</style>\n",
       "<table border=\"1\" class=\"dataframe\">\n",
       "  <thead>\n",
       "    <tr style=\"text-align: right;\">\n",
       "      <th></th>\n",
       "      <th>customer_id</th>\n",
       "    </tr>\n",
       "    <tr>\n",
       "      <th>location</th>\n",
       "      <th></th>\n",
       "    </tr>\n",
       "  </thead>\n",
       "  <tbody>\n",
       "    <tr>\n",
       "      <th>checkout</th>\n",
       "      <td>7417</td>\n",
       "    </tr>\n",
       "    <tr>\n",
       "      <th>dairy</th>\n",
       "      <td>4679</td>\n",
       "    </tr>\n",
       "    <tr>\n",
       "      <th>drinks</th>\n",
       "      <td>3905</td>\n",
       "    </tr>\n",
       "    <tr>\n",
       "      <th>fruit</th>\n",
       "      <td>5122</td>\n",
       "    </tr>\n",
       "    <tr>\n",
       "      <th>spices</th>\n",
       "      <td>3754</td>\n",
       "    </tr>\n",
       "  </tbody>\n",
       "</table>\n",
       "</div>"
      ],
      "text/plain": [
       "          customer_id\n",
       "location             \n",
       "checkout         7417\n",
       "dairy            4679\n",
       "drinks           3905\n",
       "fruit            5122\n",
       "spices           3754"
      ]
     },
     "execution_count": 41,
     "metadata": {},
     "output_type": "execute_result"
    }
   ],
   "source": [
    "cus_at_each_loction"
   ]
  },
  {
   "cell_type": "code",
   "execution_count": 42,
   "id": "edef8843",
   "metadata": {},
   "outputs": [],
   "source": [
    "#Calculate the total number of customers in each section over time"
   ]
  },
  {
   "cell_type": "code",
   "execution_count": 43,
   "id": "7d42c186",
   "metadata": {},
   "outputs": [
    {
     "data": {
      "text/plain": [
       "array(['dairy', 'spices', 'fruit', 'checkout', 'drinks'], dtype=object)"
      ]
     },
     "execution_count": 43,
     "metadata": {},
     "output_type": "execute_result"
    }
   ],
   "source": [
    "all_days[\"location\"].unique()\n"
   ]
  },
  {
   "cell_type": "code",
   "execution_count": 44,
   "id": "a92a4d93",
   "metadata": {},
   "outputs": [],
   "source": [
    "customer_per_loc_over_time=all_days.groupby(['location']).resample('1H').count()"
   ]
  },
  {
   "cell_type": "code",
   "execution_count": 45,
   "id": "31720101",
   "metadata": {},
   "outputs": [
    {
     "data": {
      "text/html": [
       "<div>\n",
       "<style scoped>\n",
       "    .dataframe tbody tr th:only-of-type {\n",
       "        vertical-align: middle;\n",
       "    }\n",
       "\n",
       "    .dataframe tbody tr th {\n",
       "        vertical-align: top;\n",
       "    }\n",
       "\n",
       "    .dataframe thead th {\n",
       "        text-align: right;\n",
       "    }\n",
       "</style>\n",
       "<table border=\"1\" class=\"dataframe\">\n",
       "  <thead>\n",
       "    <tr style=\"text-align: right;\">\n",
       "      <th></th>\n",
       "      <th></th>\n",
       "      <th>location</th>\n",
       "      <th>customer_id</th>\n",
       "    </tr>\n",
       "    <tr>\n",
       "      <th>location</th>\n",
       "      <th>timestamp</th>\n",
       "      <th></th>\n",
       "      <th></th>\n",
       "    </tr>\n",
       "  </thead>\n",
       "  <tbody>\n",
       "    <tr>\n",
       "      <th rowspan=\"5\" valign=\"top\">checkout</th>\n",
       "      <th>2019-09-02 07:00:00</th>\n",
       "      <td>92</td>\n",
       "      <td>92</td>\n",
       "    </tr>\n",
       "    <tr>\n",
       "      <th>2019-09-02 08:00:00</th>\n",
       "      <td>112</td>\n",
       "      <td>112</td>\n",
       "    </tr>\n",
       "    <tr>\n",
       "      <th>2019-09-02 09:00:00</th>\n",
       "      <td>85</td>\n",
       "      <td>85</td>\n",
       "    </tr>\n",
       "    <tr>\n",
       "      <th>2019-09-02 10:00:00</th>\n",
       "      <td>90</td>\n",
       "      <td>90</td>\n",
       "    </tr>\n",
       "    <tr>\n",
       "      <th>2019-09-02 11:00:00</th>\n",
       "      <td>55</td>\n",
       "      <td>55</td>\n",
       "    </tr>\n",
       "  </tbody>\n",
       "</table>\n",
       "</div>"
      ],
      "text/plain": [
       "                              location  customer_id\n",
       "location timestamp                                 \n",
       "checkout 2019-09-02 07:00:00        92           92\n",
       "         2019-09-02 08:00:00       112          112\n",
       "         2019-09-02 09:00:00        85           85\n",
       "         2019-09-02 10:00:00        90           90\n",
       "         2019-09-02 11:00:00        55           55"
      ]
     },
     "execution_count": 45,
     "metadata": {},
     "output_type": "execute_result"
    }
   ],
   "source": [
    "customer_per_loc_over_time.head()"
   ]
  },
  {
   "cell_type": "code",
   "execution_count": 46,
   "id": "582bf057",
   "metadata": {},
   "outputs": [],
   "source": [
    "#import seaborn as sns\n",
    "#import matplotlib as plt"
   ]
  },
  {
   "cell_type": "code",
   "execution_count": 47,
   "id": "53294809",
   "metadata": {},
   "outputs": [],
   "source": [
    "df_plot=customer_per_loc_over_time.drop(\"location\", axis= 1)"
   ]
  },
  {
   "cell_type": "code",
   "execution_count": 48,
   "id": "7c88074b",
   "metadata": {},
   "outputs": [
    {
     "data": {
      "text/html": [
       "<div>\n",
       "<style scoped>\n",
       "    .dataframe tbody tr th:only-of-type {\n",
       "        vertical-align: middle;\n",
       "    }\n",
       "\n",
       "    .dataframe tbody tr th {\n",
       "        vertical-align: top;\n",
       "    }\n",
       "\n",
       "    .dataframe thead th {\n",
       "        text-align: right;\n",
       "    }\n",
       "</style>\n",
       "<table border=\"1\" class=\"dataframe\">\n",
       "  <thead>\n",
       "    <tr style=\"text-align: right;\">\n",
       "      <th></th>\n",
       "      <th></th>\n",
       "      <th>customer_id</th>\n",
       "    </tr>\n",
       "    <tr>\n",
       "      <th>location</th>\n",
       "      <th>timestamp</th>\n",
       "      <th></th>\n",
       "    </tr>\n",
       "  </thead>\n",
       "  <tbody>\n",
       "    <tr>\n",
       "      <th rowspan=\"5\" valign=\"top\">checkout</th>\n",
       "      <th>2019-09-02 07:00:00</th>\n",
       "      <td>92</td>\n",
       "    </tr>\n",
       "    <tr>\n",
       "      <th>2019-09-02 08:00:00</th>\n",
       "      <td>112</td>\n",
       "    </tr>\n",
       "    <tr>\n",
       "      <th>2019-09-02 09:00:00</th>\n",
       "      <td>85</td>\n",
       "    </tr>\n",
       "    <tr>\n",
       "      <th>2019-09-02 10:00:00</th>\n",
       "      <td>90</td>\n",
       "    </tr>\n",
       "    <tr>\n",
       "      <th>2019-09-02 11:00:00</th>\n",
       "      <td>55</td>\n",
       "    </tr>\n",
       "  </tbody>\n",
       "</table>\n",
       "</div>"
      ],
      "text/plain": [
       "                              customer_id\n",
       "location timestamp                       \n",
       "checkout 2019-09-02 07:00:00           92\n",
       "         2019-09-02 08:00:00          112\n",
       "         2019-09-02 09:00:00           85\n",
       "         2019-09-02 10:00:00           90\n",
       "         2019-09-02 11:00:00           55"
      ]
     },
     "execution_count": 48,
     "metadata": {},
     "output_type": "execute_result"
    }
   ],
   "source": [
    "df_plot.head()"
   ]
  },
  {
   "cell_type": "raw",
   "id": "e6c04205",
   "metadata": {},
   "source": [
    "import pylab as plt\n",
    "\n",
    "import matplotlib.dates as mdates\n",
    "\n",
    "fig=plt.figure(figsize=(10,15))\n",
    "axes=[]\n",
    "axes.append(fig.add_subplot(511))\n",
    "axes.append(fig.add_subplot(512))\n",
    "axes.append(fig.add_subplot(513))\n",
    "axes.append(fig.add_subplot(514))\n",
    "axes.append(fig.add_subplot(515))\n",
    "\n",
    "df_plot.unstack(level= 0).plot(kind= \"bar\", subplots= True, rot=0, \n",
    "                              figsize=(6,20), ax=axes);\n",
    "\n",
    "\n",
    "import numpy as np\n",
    "for ax in axes:\n",
    "    ax.set_xticklabels(np.arange(7,22,1))\n",
    "    #ax.xaxis.set_major_formatter(mdates.DateFormatter(\"%H\"))\n",
    "    #ax.xaxis.set_minor_formatter(mdates.DateFormatter(\"%H\"))\n",
    "plt.tight_layout()"
   ]
  },
  {
   "cell_type": "code",
   "execution_count": 49,
   "id": "a56ce3bb",
   "metadata": {},
   "outputs": [
    {
     "data": {
      "image/png": "[encoded data removed]",
      "text/plain": [
       "<Figure size 720x1080 with 5 Axes>"
      ]
     },
     "metadata": {
      "needs_background": "light"
     },
     "output_type": "display_data"
    }
   ],
   "source": [
    "import matplotlib as mdates\n",
    "import pylab as plt\n",
    "fig= plt.figure(figsize=(10,15))\n",
    "axes=[]\n",
    "axes.append(fig.add_subplot(511))\n",
    "axes.append(fig.add_subplot(512))\n",
    "axes.append(fig.add_subplot(513))\n",
    "axes.append(fig.add_subplot(514))\n",
    "axes.append(fig.add_subplot(515))\n",
    "df_plot.unstack(level= 0).plot(kind=\"bar\", subplots= True, rot=0, figsize=(6, 20), ax=axes)\n",
    "\n",
    "import numpy as np\n",
    "for ax in axes:\n",
    "    ax.set_xticklabels([])\n",
    "    #ax.set_xticklabels(np.arange(7, 22, 1))\n",
    "plt.tight_layout()"
   ]
  },
  {
   "cell_type": "code",
   "execution_count": 50,
   "id": "1bb2f91a",
   "metadata": {},
   "outputs": [
    {
     "data": {
      "text/html": [
       "<div>\n",
       "<style scoped>\n",
       "    .dataframe tbody tr th:only-of-type {\n",
       "        vertical-align: middle;\n",
       "    }\n",
       "\n",
       "    .dataframe tbody tr th {\n",
       "        vertical-align: top;\n",
       "    }\n",
       "\n",
       "    .dataframe thead tr th {\n",
       "        text-align: left;\n",
       "    }\n",
       "\n",
       "    .dataframe thead tr:last-of-type th {\n",
       "        text-align: right;\n",
       "    }\n",
       "</style>\n",
       "<table border=\"1\" class=\"dataframe\">\n",
       "  <thead>\n",
       "    <tr>\n",
       "      <th></th>\n",
       "      <th colspan=\"5\" halign=\"left\">customer_id</th>\n",
       "    </tr>\n",
       "    <tr>\n",
       "      <th>location</th>\n",
       "      <th>checkout</th>\n",
       "      <th>dairy</th>\n",
       "      <th>drinks</th>\n",
       "      <th>fruit</th>\n",
       "      <th>spices</th>\n",
       "    </tr>\n",
       "    <tr>\n",
       "      <th>timestamp</th>\n",
       "      <th></th>\n",
       "      <th></th>\n",
       "      <th></th>\n",
       "      <th></th>\n",
       "      <th></th>\n",
       "    </tr>\n",
       "  </thead>\n",
       "  <tbody>\n",
       "    <tr>\n",
       "      <th>2019-09-02 07:00:00</th>\n",
       "      <td>92</td>\n",
       "      <td>59</td>\n",
       "      <td>60</td>\n",
       "      <td>54</td>\n",
       "      <td>52</td>\n",
       "    </tr>\n",
       "    <tr>\n",
       "      <th>2019-09-02 08:00:00</th>\n",
       "      <td>112</td>\n",
       "      <td>68</td>\n",
       "      <td>65</td>\n",
       "      <td>68</td>\n",
       "      <td>51</td>\n",
       "    </tr>\n",
       "    <tr>\n",
       "      <th>2019-09-02 09:00:00</th>\n",
       "      <td>85</td>\n",
       "      <td>50</td>\n",
       "      <td>57</td>\n",
       "      <td>76</td>\n",
       "      <td>40</td>\n",
       "    </tr>\n",
       "    <tr>\n",
       "      <th>2019-09-02 10:00:00</th>\n",
       "      <td>90</td>\n",
       "      <td>58</td>\n",
       "      <td>35</td>\n",
       "      <td>47</td>\n",
       "      <td>52</td>\n",
       "    </tr>\n",
       "    <tr>\n",
       "      <th>2019-09-02 11:00:00</th>\n",
       "      <td>55</td>\n",
       "      <td>36</td>\n",
       "      <td>24</td>\n",
       "      <td>41</td>\n",
       "      <td>33</td>\n",
       "    </tr>\n",
       "    <tr>\n",
       "      <th>...</th>\n",
       "      <td>...</td>\n",
       "      <td>...</td>\n",
       "      <td>...</td>\n",
       "      <td>...</td>\n",
       "      <td>...</td>\n",
       "    </tr>\n",
       "    <tr>\n",
       "      <th>2019-09-06 17:00:00</th>\n",
       "      <td>115</td>\n",
       "      <td>73</td>\n",
       "      <td>76</td>\n",
       "      <td>87</td>\n",
       "      <td>65</td>\n",
       "    </tr>\n",
       "    <tr>\n",
       "      <th>2019-09-06 18:00:00</th>\n",
       "      <td>148</td>\n",
       "      <td>105</td>\n",
       "      <td>93</td>\n",
       "      <td>104</td>\n",
       "      <td>98</td>\n",
       "    </tr>\n",
       "    <tr>\n",
       "      <th>2019-09-06 19:00:00</th>\n",
       "      <td>135</td>\n",
       "      <td>84</td>\n",
       "      <td>76</td>\n",
       "      <td>93</td>\n",
       "      <td>65</td>\n",
       "    </tr>\n",
       "    <tr>\n",
       "      <th>2019-09-06 20:00:00</th>\n",
       "      <td>103</td>\n",
       "      <td>53</td>\n",
       "      <td>56</td>\n",
       "      <td>69</td>\n",
       "      <td>54</td>\n",
       "    </tr>\n",
       "    <tr>\n",
       "      <th>2019-09-06 21:00:00</th>\n",
       "      <td>52</td>\n",
       "      <td>39</td>\n",
       "      <td>34</td>\n",
       "      <td>36</td>\n",
       "      <td>20</td>\n",
       "    </tr>\n",
       "  </tbody>\n",
       "</table>\n",
       "<p>111 rows × 5 columns</p>\n",
       "</div>"
      ],
      "text/plain": [
       "                    customer_id                          \n",
       "location               checkout dairy drinks fruit spices\n",
       "timestamp                                                \n",
       "2019-09-02 07:00:00          92    59     60    54     52\n",
       "2019-09-02 08:00:00         112    68     65    68     51\n",
       "2019-09-02 09:00:00          85    50     57    76     40\n",
       "2019-09-02 10:00:00          90    58     35    47     52\n",
       "2019-09-02 11:00:00          55    36     24    41     33\n",
       "...                         ...   ...    ...   ...    ...\n",
       "2019-09-06 17:00:00         115    73     76    87     65\n",
       "2019-09-06 18:00:00         148   105     93   104     98\n",
       "2019-09-06 19:00:00         135    84     76    93     65\n",
       "2019-09-06 20:00:00         103    53     56    69     54\n",
       "2019-09-06 21:00:00          52    39     34    36     20\n",
       "\n",
       "[111 rows x 5 columns]"
      ]
     },
     "execution_count": 50,
     "metadata": {},
     "output_type": "execute_result"
    }
   ],
   "source": [
    "df_sum=df_plot.unstack(level= 0)\n",
    "df_sum"
   ]
  },
  {
   "cell_type": "code",
   "execution_count": 51,
   "id": "5eaa8939",
   "metadata": {},
   "outputs": [
    {
     "data": {
      "text/plain": [
       "7417"
      ]
     },
     "execution_count": 51,
     "metadata": {},
     "output_type": "execute_result"
    }
   ],
   "source": [
    "#df_sum.info()\n",
    "\n",
    "#Total = df['MyColumn'].sum()\n",
    "df_sum[\"customer_id\", \"checkout\"].sum()"
   ]
  },
  {
   "cell_type": "code",
   "execution_count": 52,
   "id": "52a61893",
   "metadata": {},
   "outputs": [
    {
     "data": {
      "text/plain": [
       "4679"
      ]
     },
     "execution_count": 52,
     "metadata": {},
     "output_type": "execute_result"
    }
   ],
   "source": [
    "df_sum[\"customer_id\", \"dairy\"].sum()\n"
   ]
  },
  {
   "cell_type": "code",
   "execution_count": 53,
   "id": "21f3e97a",
   "metadata": {},
   "outputs": [
    {
     "data": {
      "text/plain": [
       "3905"
      ]
     },
     "execution_count": 53,
     "metadata": {},
     "output_type": "execute_result"
    }
   ],
   "source": [
    "df_sum[\"customer_id\", \"drinks\"].sum()"
   ]
  },
  {
   "cell_type": "code",
   "execution_count": 54,
   "id": "d9ad0f9f",
   "metadata": {},
   "outputs": [
    {
     "data": {
      "text/plain": [
       "5122"
      ]
     },
     "execution_count": 54,
     "metadata": {},
     "output_type": "execute_result"
    }
   ],
   "source": [
    "df_sum[\"customer_id\", \"fruit\"].sum()"
   ]
  },
  {
   "cell_type": "code",
   "execution_count": 55,
   "id": "be0b8575",
   "metadata": {},
   "outputs": [
    {
     "data": {
      "text/plain": [
       "3754"
      ]
     },
     "execution_count": 55,
     "metadata": {},
     "output_type": "execute_result"
    }
   ],
   "source": [
    "df_sum[\"customer_id\", \"spices\"].sum()"
   ]
  },
  {
   "cell_type": "code",
   "execution_count": null,
   "id": "b85b383c",
   "metadata": {},
   "outputs": [],
   "source": []
  }
 ],
 "metadata": {
  "kernelspec": {
   "display_name": "Python 3 (ipykernel)",
   "language": "python",
   "name": "python3"
  },
  "language_info": {
   "codemirror_mode": {
    "name": "ipython",
    "version": 3
   },
   "file_extension": ".py",
   "mimetype": "text/x-python",
   "name": "python",
   "nbconvert_exporter": "python",
   "pygments_lexer": "ipython3",
   "version": "3.9.12"
  }
 },
 "nbformat": 4,
 "nbformat_minor": 5
}
